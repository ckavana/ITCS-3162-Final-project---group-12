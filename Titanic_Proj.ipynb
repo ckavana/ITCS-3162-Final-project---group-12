{
 "cells": [
  {
   "cell_type": "code",
   "execution_count": 65,
   "id": "b440aea2",
   "metadata": {},
   "outputs": [],
   "source": [
    "import numpy as np\n",
    "import pandas as pd \n",
    "import matplotlib.pyplot as plt\n",
    "import seaborn as sns\n",
    "from sklearn.model_selection import train_test_split\n",
    "from sklearn import metrics\n",
    "from sklearn import datasets, linear_model\n",
    "from sklearn.linear_model import LogisticRegression\n",
    "from sklearn import preprocessing\n",
    "from sklearn.metrics import classification_report\n",
    "from sklearn.metrics import confusion_matrix"
   ]
  },
  {
   "cell_type": "code",
   "execution_count": 2,
   "id": "145873f0",
   "metadata": {},
   "outputs": [],
   "source": [
    "titanic = pd.read_csv('datasets/TITANIC_FORMATTED.csv')"
   ]
  },
  {
   "cell_type": "code",
   "execution_count": 3,
   "id": "adf79fae",
   "metadata": {},
   "outputs": [
    {
     "data": {
      "text/html": [
       "<div>\n",
       "<style scoped>\n",
       "    .dataframe tbody tr th:only-of-type {\n",
       "        vertical-align: middle;\n",
       "    }\n",
       "\n",
       "    .dataframe tbody tr th {\n",
       "        vertical-align: top;\n",
       "    }\n",
       "\n",
       "    .dataframe thead th {\n",
       "        text-align: right;\n",
       "    }\n",
       "</style>\n",
       "<table border=\"1\" class=\"dataframe\">\n",
       "  <thead>\n",
       "    <tr style=\"text-align: right;\">\n",
       "      <th></th>\n",
       "      <th>Name</th>\n",
       "      <th>Age</th>\n",
       "      <th>Gender</th>\n",
       "      <th>Class</th>\n",
       "      <th>Fare</th>\n",
       "      <th>Survival</th>\n",
       "    </tr>\n",
       "  </thead>\n",
       "  <tbody>\n",
       "    <tr>\n",
       "      <th>0</th>\n",
       "      <td>Allen, Miss. Elisabeth Walton</td>\n",
       "      <td>29.0</td>\n",
       "      <td>Female</td>\n",
       "      <td>1st</td>\n",
       "      <td>211.34</td>\n",
       "      <td>Survived</td>\n",
       "    </tr>\n",
       "    <tr>\n",
       "      <th>1</th>\n",
       "      <td>Allison, Master. Hudson Trevor</td>\n",
       "      <td>1.0</td>\n",
       "      <td>Male</td>\n",
       "      <td>1st</td>\n",
       "      <td>151.55</td>\n",
       "      <td>Survived</td>\n",
       "    </tr>\n",
       "    <tr>\n",
       "      <th>2</th>\n",
       "      <td>Allison, Miss. Helen Loraine</td>\n",
       "      <td>2.0</td>\n",
       "      <td>Female</td>\n",
       "      <td>1st</td>\n",
       "      <td>151.55</td>\n",
       "      <td>Died</td>\n",
       "    </tr>\n",
       "    <tr>\n",
       "      <th>3</th>\n",
       "      <td>Allison, Mr. Hudson Joshua Creighton</td>\n",
       "      <td>30.0</td>\n",
       "      <td>Male</td>\n",
       "      <td>1st</td>\n",
       "      <td>151.55</td>\n",
       "      <td>Died</td>\n",
       "    </tr>\n",
       "    <tr>\n",
       "      <th>4</th>\n",
       "      <td>Allison, Mrs. Hudson J C (Bessie Waldo Daniels)</td>\n",
       "      <td>25.0</td>\n",
       "      <td>Female</td>\n",
       "      <td>1st</td>\n",
       "      <td>151.55</td>\n",
       "      <td>Died</td>\n",
       "    </tr>\n",
       "  </tbody>\n",
       "</table>\n",
       "</div>"
      ],
      "text/plain": [
       "                                              Name   Age  Gender Class  \\\n",
       "0                    Allen, Miss. Elisabeth Walton  29.0  Female   1st   \n",
       "1                   Allison, Master. Hudson Trevor   1.0    Male   1st   \n",
       "2                     Allison, Miss. Helen Loraine   2.0  Female   1st   \n",
       "3             Allison, Mr. Hudson Joshua Creighton  30.0    Male   1st   \n",
       "4  Allison, Mrs. Hudson J C (Bessie Waldo Daniels)  25.0  Female   1st   \n",
       "\n",
       "     Fare  Survival  \n",
       "0  211.34  Survived  \n",
       "1  151.55  Survived  \n",
       "2  151.55      Died  \n",
       "3  151.55      Died  \n",
       "4  151.55      Died  "
      ]
     },
     "execution_count": 3,
     "metadata": {},
     "output_type": "execute_result"
    }
   ],
   "source": [
    "titanic.head()"
   ]
  },
  {
   "cell_type": "code",
   "execution_count": 4,
   "id": "69e293f3",
   "metadata": {},
   "outputs": [],
   "source": [
    "from sklearn.preprocessing import LabelEncoder\n",
    "enc = LabelEncoder()"
   ]
  },
  {
   "cell_type": "code",
   "execution_count": 5,
   "id": "4fe8ac92",
   "metadata": {},
   "outputs": [
    {
     "data": {
      "text/plain": [
       "Name         object\n",
       "Age         float64\n",
       "Gender       object\n",
       "Class        object\n",
       "Fare        float64\n",
       "Survival     object\n",
       "dtype: object"
      ]
     },
     "execution_count": 5,
     "metadata": {},
     "output_type": "execute_result"
    }
   ],
   "source": [
    "titanic.dtypes"
   ]
  },
  {
   "cell_type": "code",
   "execution_count": 6,
   "id": "1080fdcb",
   "metadata": {},
   "outputs": [],
   "source": [
    "titanic['Gender'] = enc.fit(titanic['Gender']).transform(titanic['Gender'])\n",
    "titanic['Class'] = enc.fit(titanic['Class']).transform(titanic['Class'])\n",
    "titanic['Survival'] = enc.fit(titanic['Survival']).transform(titanic['Survival'])"
   ]
  },
  {
   "cell_type": "code",
   "execution_count": 7,
   "id": "8e7cf3ae",
   "metadata": {},
   "outputs": [
    {
     "data": {
      "text/plain": [
       "Name         object\n",
       "Age         float64\n",
       "Gender        int64\n",
       "Class         int64\n",
       "Fare        float64\n",
       "Survival      int64\n",
       "dtype: object"
      ]
     },
     "execution_count": 7,
     "metadata": {},
     "output_type": "execute_result"
    }
   ],
   "source": [
    "titanic.dtypes"
   ]
  },
  {
   "cell_type": "code",
   "execution_count": 28,
   "id": "fdeae16c",
   "metadata": {},
   "outputs": [
    {
     "data": {
      "text/plain": [
       "Name        0\n",
       "Age         0\n",
       "Gender      0\n",
       "Class       0\n",
       "Fare        0\n",
       "Survival    0\n",
       "dtype: int64"
      ]
     },
     "execution_count": 28,
     "metadata": {},
     "output_type": "execute_result"
    }
   ],
   "source": [
    "titanic.isna().sum()"
   ]
  },
  {
   "cell_type": "code",
   "execution_count": 30,
   "id": "bf29a7cb",
   "metadata": {},
   "outputs": [
    {
     "data": {
      "text/plain": [
       "(1045, 6)"
      ]
     },
     "execution_count": 30,
     "metadata": {},
     "output_type": "execute_result"
    }
   ],
   "source": [
    "titanic.shape"
   ]
  },
  {
   "cell_type": "code",
   "execution_count": 27,
   "id": "072c9f3f",
   "metadata": {},
   "outputs": [],
   "source": [
    "titanic.dropna(inplace=True)"
   ]
  },
  {
   "cell_type": "code",
   "execution_count": 38,
   "id": "7e27f7eb",
   "metadata": {},
   "outputs": [],
   "source": [
    "x_vars = ['Age','Gender','Class','Fare']\n",
    "y_var = ['Survival']\n",
    "X=titanic[x_vars]\n",
    "y=titanic[y_var]"
   ]
  },
  {
   "cell_type": "code",
   "execution_count": 39,
   "id": "2a6c9b2b",
   "metadata": {},
   "outputs": [],
   "source": [
    "X_train, X_test, y_train, y_test = train_test_split(X, y, test_size=0.3, random_state=0)"
   ]
  },
  {
   "cell_type": "code",
   "execution_count": 40,
   "id": "8a1b0589",
   "metadata": {},
   "outputs": [
    {
     "name": "stderr",
     "output_type": "stream",
     "text": [
      "/opt/anaconda3/lib/python3.9/site-packages/sklearn/utils/validation.py:63: DataConversionWarning: A column-vector y was passed when a 1d array was expected. Please change the shape of y to (n_samples, ), for example using ravel().\n",
      "  return f(*args, **kwargs)\n"
     ]
    },
    {
     "data": {
      "text/plain": [
       "LogisticRegression()"
      ]
     },
     "execution_count": 40,
     "metadata": {},
     "output_type": "execute_result"
    }
   ],
   "source": [
    "# modeling using scikit learn\n",
    "model = LogisticRegression()\n",
    "model.fit(X_train, y_train)"
   ]
  },
  {
   "cell_type": "code",
   "execution_count": 41,
   "id": "19e1cca5",
   "metadata": {},
   "outputs": [],
   "source": [
    "y_pred = model.predict(X_test)"
   ]
  },
  {
   "cell_type": "code",
   "execution_count": 50,
   "id": "22c0835d",
   "metadata": {},
   "outputs": [],
   "source": [
    "prob = model.predict_proba(X_test)"
   ]
  },
  {
   "cell_type": "code",
   "execution_count": 51,
   "id": "ba94cec7",
   "metadata": {
    "scrolled": true
   },
   "outputs": [
    {
     "data": {
      "text/plain": [
       "array([1, 1, 0, 0, 0, 0, 0, 0, 1, 0, 0, 1, 0, 1, 0, 1, 0, 0, 0, 0, 1, 1,\n",
       "       1, 1, 1, 1, 1, 1, 0, 0, 0, 0, 1, 0, 0, 1, 0, 1, 0, 0, 1, 0, 0, 0,\n",
       "       0, 1, 0, 0, 1, 1, 1, 1, 0, 0, 1, 0, 0, 1, 0, 1, 0, 0, 0, 0, 0, 0,\n",
       "       0, 0, 0, 0, 0, 1, 0, 0, 0, 1, 0, 0, 1, 0, 0, 1, 1, 0, 0, 0, 0, 0,\n",
       "       1, 0, 0, 1, 1, 1, 0, 0, 0, 0, 1, 1, 0, 0, 1, 1, 0, 0, 0, 0, 0, 1,\n",
       "       0, 1, 0, 0, 1, 0, 1, 0, 1, 0, 1, 0, 0, 1, 0, 1, 0, 1, 0, 0, 0, 0,\n",
       "       0, 0, 0, 0, 0, 0, 0, 0, 0, 0, 0, 0, 1, 1, 0, 0, 0, 1, 1, 1, 1, 0,\n",
       "       1, 0, 1, 1, 0, 1, 1, 0, 0, 0, 0, 0, 0, 0, 0, 1, 0, 0, 1, 0, 0, 0,\n",
       "       1, 0, 0, 1, 0, 0, 0, 1, 0, 0, 1, 0, 0, 0, 0, 0, 0, 0, 0, 0, 1, 0,\n",
       "       1, 0, 1, 1, 0, 0, 1, 0, 1, 1, 0, 0, 0, 1, 1, 0, 0, 1, 0, 0, 1, 0,\n",
       "       0, 0, 0, 0, 1, 1, 0, 0, 0, 1, 0, 1, 1, 0, 0, 0, 0, 1, 0, 0, 0, 0,\n",
       "       0, 0, 1, 0, 1, 0, 0, 0, 0, 1, 0, 0, 1, 1, 0, 0, 1, 0, 0, 1, 1, 0,\n",
       "       0, 0, 0, 0, 1, 0, 0, 0, 1, 0, 0, 0, 1, 1, 1, 1, 0, 0, 0, 0, 0, 1,\n",
       "       0, 1, 0, 1, 0, 1, 1, 1, 0, 1, 1, 1, 1, 1, 0, 1, 0, 0, 0, 0, 1, 0,\n",
       "       0, 1, 0, 1, 1, 1])"
      ]
     },
     "execution_count": 51,
     "metadata": {},
     "output_type": "execute_result"
    }
   ],
   "source": [
    "y_pred"
   ]
  },
  {
   "cell_type": "code",
   "execution_count": 52,
   "id": "d6128e7d",
   "metadata": {},
   "outputs": [
    {
     "data": {
      "text/plain": [
       "array([[0.1294549 , 0.8705451 ],\n",
       "       [0.48588278, 0.51411722],\n",
       "       [0.90117094, 0.09882906],\n",
       "       [0.90962134, 0.09037866],\n",
       "       [0.57068866, 0.42931134],\n",
       "       [0.83968632, 0.16031368],\n",
       "       [0.80040086, 0.19959914],\n",
       "       [0.86023902, 0.13976098],\n",
       "       [0.29941316, 0.70058684],\n",
       "       [0.91724786, 0.08275214],\n",
       "       [0.89518646, 0.10481354],\n",
       "       [0.23571799, 0.76428201],\n",
       "       [0.71733722, 0.28266278],\n",
       "       [0.3969769 , 0.6030231 ],\n",
       "       [0.88891733, 0.11108267],\n",
       "       [0.20013857, 0.79986143],\n",
       "       [0.89190164, 0.10809836],\n",
       "       [0.93305447, 0.06694553],\n",
       "       [0.53422045, 0.46577955],\n",
       "       [0.95371893, 0.04628107],\n",
       "       [0.07500571, 0.92499429],\n",
       "       [0.13170138, 0.86829862],\n",
       "       [0.17830973, 0.82169027],\n",
       "       [0.15530357, 0.84469643],\n",
       "       [0.42775043, 0.57224957],\n",
       "       [0.25646616, 0.74353384],\n",
       "       [0.22418888, 0.77581112],\n",
       "       [0.0910829 , 0.9089171 ],\n",
       "       [0.88568167, 0.11431833],\n",
       "       [0.8337631 , 0.1662369 ],\n",
       "       [0.74814243, 0.25185757],\n",
       "       [0.90674564, 0.09325436],\n",
       "       [0.14949039, 0.85050961],\n",
       "       [0.90690583, 0.09309417],\n",
       "       [0.86783427, 0.13216573],\n",
       "       [0.07729619, 0.92270381],\n",
       "       [0.92436985, 0.07563015],\n",
       "       [0.46695554, 0.53304446],\n",
       "       [0.55055125, 0.44944875],\n",
       "       [0.87414688, 0.12585312],\n",
       "       [0.25917784, 0.74082216],\n",
       "       [0.85399344, 0.14600656],\n",
       "       [0.76798836, 0.23201164],\n",
       "       [0.85111035, 0.14888965],\n",
       "       [0.87534543, 0.12465457],\n",
       "       [0.17228365, 0.82771635],\n",
       "       [0.56504528, 0.43495472],\n",
       "       [0.85470455, 0.14529545],\n",
       "       [0.26547831, 0.73452169],\n",
       "       [0.4281233 , 0.5718767 ],\n",
       "       [0.40935216, 0.59064784],\n",
       "       [0.29946397, 0.70053603],\n",
       "       [0.5137684 , 0.4862316 ],\n",
       "       [0.8756738 , 0.1243262 ],\n",
       "       [0.42813149, 0.57186851],\n",
       "       [0.90402587, 0.09597413],\n",
       "       [0.84699807, 0.15300193],\n",
       "       [0.38315593, 0.61684407],\n",
       "       [0.8842898 , 0.1157102 ],\n",
       "       [0.07084729, 0.92915271],\n",
       "       [0.69003987, 0.30996013],\n",
       "       [0.67139312, 0.32860688],\n",
       "       [0.89824982, 0.10175018],\n",
       "       [0.71609995, 0.28390005],\n",
       "       [0.8855579 , 0.1144421 ],\n",
       "       [0.79458486, 0.20541514],\n",
       "       [0.82322846, 0.17677154],\n",
       "       [0.74250318, 0.25749682],\n",
       "       [0.76420417, 0.23579583],\n",
       "       [0.89532928, 0.10467072],\n",
       "       [0.88570031, 0.11429969],\n",
       "       [0.37082342, 0.62917658],\n",
       "       [0.89495852, 0.10504148],\n",
       "       [0.57620302, 0.42379698],\n",
       "       [0.88891733, 0.11108267],\n",
       "       [0.07046296, 0.92953704],\n",
       "       [0.73606647, 0.26393353],\n",
       "       [0.54905567, 0.45094433],\n",
       "       [0.40534831, 0.59465169],\n",
       "       [0.81159843, 0.18840157],\n",
       "       [0.93101326, 0.06898674],\n",
       "       [0.25916275, 0.74083725],\n",
       "       [0.38114213, 0.61885787],\n",
       "       [0.95364499, 0.04635501],\n",
       "       [0.80658604, 0.19341396],\n",
       "       [0.8482596 , 0.1517404 ],\n",
       "       [0.90964611, 0.09035389],\n",
       "       [0.89942777, 0.10057223],\n",
       "       [0.15669835, 0.84330165],\n",
       "       [0.68412407, 0.31587593],\n",
       "       [0.61606183, 0.38393817],\n",
       "       [0.44079156, 0.55920844],\n",
       "       [0.42021167, 0.57978833],\n",
       "       [0.29264021, 0.70735979],\n",
       "       [0.90682808, 0.09317192],\n",
       "       [0.83798535, 0.16201465],\n",
       "       [0.91086424, 0.08913576],\n",
       "       [0.79227071, 0.20772929],\n",
       "       [0.19304892, 0.80695108],\n",
       "       [0.42762752, 0.57237248],\n",
       "       [0.93632805, 0.06367195],\n",
       "       [0.77238341, 0.22761659],\n",
       "       [0.07484929, 0.92515071],\n",
       "       [0.43619534, 0.56380466],\n",
       "       [0.89367814, 0.10632186],\n",
       "       [0.8789708 , 0.1210292 ],\n",
       "       [0.87542759, 0.12457241],\n",
       "       [0.8857037 , 0.1142963 ],\n",
       "       [0.90105013, 0.09894987],\n",
       "       [0.05510572, 0.94489428],\n",
       "       [0.85165316, 0.14834684],\n",
       "       [0.23842834, 0.76157166],\n",
       "       [0.91341892, 0.08658108],\n",
       "       [0.79827969, 0.20172031],\n",
       "       [0.03224545, 0.96775455],\n",
       "       [0.90310917, 0.09689083],\n",
       "       [0.13267876, 0.86732124],\n",
       "       [0.89820239, 0.10179761],\n",
       "       [0.31921947, 0.68078053],\n",
       "       [0.79099762, 0.20900238],\n",
       "       [0.15286298, 0.84713702],\n",
       "       [0.97529319, 0.02470681],\n",
       "       [0.72985761, 0.27014239],\n",
       "       [0.40103191, 0.59896809],\n",
       "       [0.94081967, 0.05918033],\n",
       "       [0.18904317, 0.81095683],\n",
       "       [0.74250318, 0.25749682],\n",
       "       [0.27836889, 0.72163111],\n",
       "       [0.55781872, 0.44218128],\n",
       "       [0.92204386, 0.07795614],\n",
       "       [0.75674943, 0.24325057],\n",
       "       [0.7614932 , 0.2385068 ],\n",
       "       [0.5136259 , 0.4863741 ],\n",
       "       [0.89114571, 0.10885429],\n",
       "       [0.83081681, 0.16918319],\n",
       "       [0.90756409, 0.09243591],\n",
       "       [0.73832115, 0.26167885],\n",
       "       [0.83443449, 0.16556551],\n",
       "       [0.88097952, 0.11902048],\n",
       "       [0.9324065 , 0.0675935 ],\n",
       "       [0.80001439, 0.19998561],\n",
       "       [0.7944658 , 0.2055342 ],\n",
       "       [0.70429724, 0.29570276],\n",
       "       [0.9093085 , 0.0906915 ],\n",
       "       [0.06943206, 0.93056794],\n",
       "       [0.33448189, 0.66551811],\n",
       "       [0.88904948, 0.11095052],\n",
       "       [0.88246496, 0.11753504],\n",
       "       [0.54955775, 0.45044225],\n",
       "       [0.40434119, 0.59565881],\n",
       "       [0.29099268, 0.70900732],\n",
       "       [0.19438059, 0.80561941],\n",
       "       [0.4150877 , 0.5849123 ],\n",
       "       [0.88235728, 0.11764272],\n",
       "       [0.09731084, 0.90268916],\n",
       "       [0.56237481, 0.43762519],\n",
       "       [0.42826604, 0.57173396],\n",
       "       [0.42017089, 0.57982911],\n",
       "       [0.57955491, 0.42044509],\n",
       "       [0.28283169, 0.71716831],\n",
       "       [0.26971192, 0.73028808],\n",
       "       [0.92661489, 0.07338511],\n",
       "       [0.92454052, 0.07545948],\n",
       "       [0.8953434 , 0.1046566 ],\n",
       "       [0.92446925, 0.07553075],\n",
       "       [0.58144661, 0.41855339],\n",
       "       [0.6525003 , 0.3474997 ],\n",
       "       [0.92610844, 0.07389156],\n",
       "       [0.67182984, 0.32817016],\n",
       "       [0.17170927, 0.82829073],\n",
       "       [0.50083954, 0.49916046],\n",
       "       [0.8939155 , 0.1060845 ],\n",
       "       [0.05193709, 0.94806291],\n",
       "       [0.96033301, 0.03966699],\n",
       "       [0.91226263, 0.08773737],\n",
       "       [0.73325174, 0.26674826],\n",
       "       [0.20764527, 0.79235473],\n",
       "       [0.7547557 , 0.2452443 ],\n",
       "       [0.71682787, 0.28317213],\n",
       "       [0.06861122, 0.93138878],\n",
       "       [0.90931126, 0.09068874],\n",
       "       [0.70429724, 0.29570276],\n",
       "       [0.67008972, 0.32991028],\n",
       "       [0.10092076, 0.89907924],\n",
       "       [0.91215271, 0.08784729],\n",
       "       [0.60041255, 0.39958745],\n",
       "       [0.42698855, 0.57301145],\n",
       "       [0.81585287, 0.18414713],\n",
       "       [0.72918057, 0.27081943],\n",
       "       [0.8982437 , 0.1017563 ],\n",
       "       [0.83640309, 0.16359691],\n",
       "       [0.87887996, 0.12112004],\n",
       "       [0.52953162, 0.47046838],\n",
       "       [0.93298334, 0.06701666],\n",
       "       [0.53964398, 0.46035602],\n",
       "       [0.87889956, 0.12110044],\n",
       "       [0.1180303 , 0.8819697 ],\n",
       "       [0.91970449, 0.08029551],\n",
       "       [0.31698555, 0.68301445],\n",
       "       [0.9147622 , 0.0852378 ],\n",
       "       [0.22321225, 0.77678775],\n",
       "       [0.2529754 , 0.7470246 ],\n",
       "       [0.60483102, 0.39516898],\n",
       "       [0.73704082, 0.26295918],\n",
       "       [0.37083307, 0.62916693],\n",
       "       [0.70172856, 0.29827144],\n",
       "       [0.09381454, 0.90618546],\n",
       "       [0.26360771, 0.73639229],\n",
       "       [0.92750898, 0.07249102],\n",
       "       [0.56262783, 0.43737217],\n",
       "       [0.89213218, 0.10786782],\n",
       "       [0.17830973, 0.82169027],\n",
       "       [0.17755437, 0.82244563],\n",
       "       [0.88904948, 0.11095052],\n",
       "       [0.93421627, 0.06578373],\n",
       "       [0.221147  , 0.778853  ],\n",
       "       [0.90118138, 0.09881862],\n",
       "       [0.7944658 , 0.2055342 ],\n",
       "       [0.10335344, 0.89664656],\n",
       "       [0.91724786, 0.08275214],\n",
       "       [0.6103341 , 0.3896659 ],\n",
       "       [0.85248503, 0.14751497],\n",
       "       [0.8952728 , 0.1047272 ],\n",
       "       [0.83042049, 0.16957951],\n",
       "       [0.09250953, 0.90749047],\n",
       "       [0.15711675, 0.84288325],\n",
       "       [0.90118138, 0.09881862],\n",
       "       [0.90658739, 0.09341261],\n",
       "       [0.93876829, 0.06123171],\n",
       "       [0.4281233 , 0.5718767 ],\n",
       "       [0.66621273, 0.33378727],\n",
       "       [0.20944743, 0.79055257],\n",
       "       [0.06901695, 0.93098305],\n",
       "       [0.73016023, 0.26983977],\n",
       "       [0.6897045 , 0.3102955 ],\n",
       "       [0.88570709, 0.11429291],\n",
       "       [0.66264655, 0.33735345],\n",
       "       [0.45433399, 0.54566601],\n",
       "       [0.90629985, 0.09370015],\n",
       "       [0.89526495, 0.10473505],\n",
       "       [0.90568341, 0.09431659],\n",
       "       [0.90118138, 0.09881862],\n",
       "       [0.89263097, 0.10736903],\n",
       "       [0.67963799, 0.32036201],\n",
       "       [0.1153934 , 0.8846066 ],\n",
       "       [0.91969583, 0.08030417],\n",
       "       [0.31925265, 0.68074735],\n",
       "       [0.56833845, 0.43166155],\n",
       "       [0.56659246, 0.43340754],\n",
       "       [0.90681393, 0.09318607],\n",
       "       [0.89614375, 0.10385625],\n",
       "       [0.37929396, 0.62070604],\n",
       "       [0.52818072, 0.47181928],\n",
       "       [0.73653868, 0.26346132],\n",
       "       [0.29461357, 0.70538643],\n",
       "       [0.27041229, 0.72958771],\n",
       "       [0.8982437 , 0.1017563 ],\n",
       "       [0.65079814, 0.34920186],\n",
       "       [0.38110265, 0.61889735],\n",
       "       [0.65362776, 0.34637224],\n",
       "       [0.9244599 , 0.0755401 ],\n",
       "       [0.09137461, 0.90862539],\n",
       "       [0.19986006, 0.80013994],\n",
       "       [0.8257859 , 0.1742141 ],\n",
       "       [0.89211607, 0.10788393],\n",
       "       [0.87539108, 0.12460892],\n",
       "       [0.88571217, 0.11428783],\n",
       "       [0.87168163, 0.12831837],\n",
       "       [0.4595112 , 0.5404888 ],\n",
       "       [0.8245402 , 0.1754598 ],\n",
       "       [0.88571556, 0.11428444],\n",
       "       [0.57646242, 0.42353758],\n",
       "       [0.18933252, 0.81066748],\n",
       "       [0.88566133, 0.11433867],\n",
       "       [0.69747146, 0.30252854],\n",
       "       [0.71715156, 0.28284844],\n",
       "       [0.08462914, 0.91537086],\n",
       "       [0.08376562, 0.91623438],\n",
       "       [0.10664245, 0.89335755],\n",
       "       [0.43422642, 0.56577358],\n",
       "       [0.60794242, 0.39205758],\n",
       "       [0.82137   , 0.17863   ],\n",
       "       [0.88559691, 0.11440309],\n",
       "       [0.79988438, 0.20011562],\n",
       "       [0.88570709, 0.11429291],\n",
       "       [0.17673273, 0.82326727],\n",
       "       [0.53339135, 0.46660865],\n",
       "       [0.49236126, 0.50763874],\n",
       "       [0.60172895, 0.39827105],\n",
       "       [0.21546627, 0.78453373],\n",
       "       [0.7529772 , 0.2470228 ],\n",
       "       [0.27399772, 0.72600228],\n",
       "       [0.13861627, 0.86138373],\n",
       "       [0.38079872, 0.61920128],\n",
       "       [0.89531516, 0.10468484],\n",
       "       [0.10526995, 0.89473005],\n",
       "       [0.16120508, 0.83879492],\n",
       "       [0.05791324, 0.94208676],\n",
       "       [0.20874895, 0.79125105],\n",
       "       [0.06910702, 0.93089298],\n",
       "       [0.91968965, 0.08031035],\n",
       "       [0.44413604, 0.55586396],\n",
       "       [0.84259375, 0.15740625],\n",
       "       [0.94420208, 0.05579792],\n",
       "       [0.67476995, 0.32523005],\n",
       "       [0.83048983, 0.16951017],\n",
       "       [0.3349206 , 0.6650794 ],\n",
       "       [0.61768933, 0.38231067],\n",
       "       [0.74250318, 0.25749682],\n",
       "       [0.27836889, 0.72163111],\n",
       "       [0.83967184, 0.16032816],\n",
       "       [0.39593562, 0.60406438],\n",
       "       [0.20697055, 0.79302945],\n",
       "       [0.20146456, 0.79853544]])"
      ]
     },
     "execution_count": 52,
     "metadata": {},
     "output_type": "execute_result"
    }
   ],
   "source": [
    "prob"
   ]
  },
  {
   "cell_type": "code",
   "execution_count": 53,
   "id": "30709a1e",
   "metadata": {},
   "outputs": [],
   "source": [
    "#titanic['Probabilities'] = prob.tolist()\n",
    "titanic_1 = pd.concat([titanic,pd.DataFrame(prob)], axis=1)"
   ]
  },
  {
   "cell_type": "code",
   "execution_count": 54,
   "id": "ab1de6d2",
   "metadata": {},
   "outputs": [
    {
     "data": {
      "text/html": [
       "<div>\n",
       "<style scoped>\n",
       "    .dataframe tbody tr th:only-of-type {\n",
       "        vertical-align: middle;\n",
       "    }\n",
       "\n",
       "    .dataframe tbody tr th {\n",
       "        vertical-align: top;\n",
       "    }\n",
       "\n",
       "    .dataframe thead th {\n",
       "        text-align: right;\n",
       "    }\n",
       "</style>\n",
       "<table border=\"1\" class=\"dataframe\">\n",
       "  <thead>\n",
       "    <tr style=\"text-align: right;\">\n",
       "      <th></th>\n",
       "      <th>Name</th>\n",
       "      <th>Age</th>\n",
       "      <th>Gender</th>\n",
       "      <th>Class</th>\n",
       "      <th>Fare</th>\n",
       "      <th>Survival</th>\n",
       "      <th>0</th>\n",
       "      <th>1</th>\n",
       "    </tr>\n",
       "  </thead>\n",
       "  <tbody>\n",
       "    <tr>\n",
       "      <th>0</th>\n",
       "      <td>Allen, Miss. Elisabeth Walton</td>\n",
       "      <td>29.0</td>\n",
       "      <td>0.0</td>\n",
       "      <td>0.0</td>\n",
       "      <td>211.34</td>\n",
       "      <td>1.0</td>\n",
       "      <td>0.129455</td>\n",
       "      <td>0.870545</td>\n",
       "    </tr>\n",
       "    <tr>\n",
       "      <th>1</th>\n",
       "      <td>Allison, Master. Hudson Trevor</td>\n",
       "      <td>1.0</td>\n",
       "      <td>1.0</td>\n",
       "      <td>0.0</td>\n",
       "      <td>151.55</td>\n",
       "      <td>1.0</td>\n",
       "      <td>0.485883</td>\n",
       "      <td>0.514117</td>\n",
       "    </tr>\n",
       "    <tr>\n",
       "      <th>2</th>\n",
       "      <td>Allison, Miss. Helen Loraine</td>\n",
       "      <td>2.0</td>\n",
       "      <td>0.0</td>\n",
       "      <td>0.0</td>\n",
       "      <td>151.55</td>\n",
       "      <td>0.0</td>\n",
       "      <td>0.901171</td>\n",
       "      <td>0.098829</td>\n",
       "    </tr>\n",
       "    <tr>\n",
       "      <th>3</th>\n",
       "      <td>Allison, Mr. Hudson Joshua Creighton</td>\n",
       "      <td>30.0</td>\n",
       "      <td>1.0</td>\n",
       "      <td>0.0</td>\n",
       "      <td>151.55</td>\n",
       "      <td>0.0</td>\n",
       "      <td>0.909621</td>\n",
       "      <td>0.090379</td>\n",
       "    </tr>\n",
       "    <tr>\n",
       "      <th>4</th>\n",
       "      <td>Allison, Mrs. Hudson J C (Bessie Waldo Daniels)</td>\n",
       "      <td>25.0</td>\n",
       "      <td>0.0</td>\n",
       "      <td>0.0</td>\n",
       "      <td>151.55</td>\n",
       "      <td>0.0</td>\n",
       "      <td>0.570689</td>\n",
       "      <td>0.429311</td>\n",
       "    </tr>\n",
       "  </tbody>\n",
       "</table>\n",
       "</div>"
      ],
      "text/plain": [
       "                                              Name   Age  Gender  Class  \\\n",
       "0                    Allen, Miss. Elisabeth Walton  29.0     0.0    0.0   \n",
       "1                   Allison, Master. Hudson Trevor   1.0     1.0    0.0   \n",
       "2                     Allison, Miss. Helen Loraine   2.0     0.0    0.0   \n",
       "3             Allison, Mr. Hudson Joshua Creighton  30.0     1.0    0.0   \n",
       "4  Allison, Mrs. Hudson J C (Bessie Waldo Daniels)  25.0     0.0    0.0   \n",
       "\n",
       "     Fare  Survival         0         1  \n",
       "0  211.34       1.0  0.129455  0.870545  \n",
       "1  151.55       1.0  0.485883  0.514117  \n",
       "2  151.55       0.0  0.901171  0.098829  \n",
       "3  151.55       0.0  0.909621  0.090379  \n",
       "4  151.55       0.0  0.570689  0.429311  "
      ]
     },
     "execution_count": 54,
     "metadata": {},
     "output_type": "execute_result"
    }
   ],
   "source": [
    "titanic_1.head()"
   ]
  },
  {
   "cell_type": "code",
   "execution_count": 62,
   "id": "bb52ac7d",
   "metadata": {},
   "outputs": [],
   "source": [
    "titanic_1.rename(columns={0:'Predicted Y',1:'Probabilities'}, inplace=True)"
   ]
  },
  {
   "cell_type": "code",
   "execution_count": 64,
   "id": "a192d9f2",
   "metadata": {},
   "outputs": [
    {
     "data": {
      "text/html": [
       "<div>\n",
       "<style scoped>\n",
       "    .dataframe tbody tr th:only-of-type {\n",
       "        vertical-align: middle;\n",
       "    }\n",
       "\n",
       "    .dataframe tbody tr th {\n",
       "        vertical-align: top;\n",
       "    }\n",
       "\n",
       "    .dataframe thead th {\n",
       "        text-align: right;\n",
       "    }\n",
       "</style>\n",
       "<table border=\"1\" class=\"dataframe\">\n",
       "  <thead>\n",
       "    <tr style=\"text-align: right;\">\n",
       "      <th></th>\n",
       "      <th>Name</th>\n",
       "      <th>Age</th>\n",
       "      <th>Gender</th>\n",
       "      <th>Class</th>\n",
       "      <th>Fare</th>\n",
       "      <th>Survival</th>\n",
       "      <th>Predicted Y</th>\n",
       "      <th>Probabilities</th>\n",
       "    </tr>\n",
       "  </thead>\n",
       "  <tbody>\n",
       "    <tr>\n",
       "      <th>0</th>\n",
       "      <td>Allen, Miss. Elisabeth Walton</td>\n",
       "      <td>29.0</td>\n",
       "      <td>0.0</td>\n",
       "      <td>0.0</td>\n",
       "      <td>211.34</td>\n",
       "      <td>1.0</td>\n",
       "      <td>0.129455</td>\n",
       "      <td>0.870545</td>\n",
       "    </tr>\n",
       "    <tr>\n",
       "      <th>1</th>\n",
       "      <td>Allison, Master. Hudson Trevor</td>\n",
       "      <td>1.0</td>\n",
       "      <td>1.0</td>\n",
       "      <td>0.0</td>\n",
       "      <td>151.55</td>\n",
       "      <td>1.0</td>\n",
       "      <td>0.485883</td>\n",
       "      <td>0.514117</td>\n",
       "    </tr>\n",
       "    <tr>\n",
       "      <th>2</th>\n",
       "      <td>Allison, Miss. Helen Loraine</td>\n",
       "      <td>2.0</td>\n",
       "      <td>0.0</td>\n",
       "      <td>0.0</td>\n",
       "      <td>151.55</td>\n",
       "      <td>0.0</td>\n",
       "      <td>0.901171</td>\n",
       "      <td>0.098829</td>\n",
       "    </tr>\n",
       "    <tr>\n",
       "      <th>3</th>\n",
       "      <td>Allison, Mr. Hudson Joshua Creighton</td>\n",
       "      <td>30.0</td>\n",
       "      <td>1.0</td>\n",
       "      <td>0.0</td>\n",
       "      <td>151.55</td>\n",
       "      <td>0.0</td>\n",
       "      <td>0.909621</td>\n",
       "      <td>0.090379</td>\n",
       "    </tr>\n",
       "    <tr>\n",
       "      <th>4</th>\n",
       "      <td>Allison, Mrs. Hudson J C (Bessie Waldo Daniels)</td>\n",
       "      <td>25.0</td>\n",
       "      <td>0.0</td>\n",
       "      <td>0.0</td>\n",
       "      <td>151.55</td>\n",
       "      <td>0.0</td>\n",
       "      <td>0.570689</td>\n",
       "      <td>0.429311</td>\n",
       "    </tr>\n",
       "  </tbody>\n",
       "</table>\n",
       "</div>"
      ],
      "text/plain": [
       "                                              Name   Age  Gender  Class  \\\n",
       "0                    Allen, Miss. Elisabeth Walton  29.0     0.0    0.0   \n",
       "1                   Allison, Master. Hudson Trevor   1.0     1.0    0.0   \n",
       "2                     Allison, Miss. Helen Loraine   2.0     0.0    0.0   \n",
       "3             Allison, Mr. Hudson Joshua Creighton  30.0     1.0    0.0   \n",
       "4  Allison, Mrs. Hudson J C (Bessie Waldo Daniels)  25.0     0.0    0.0   \n",
       "\n",
       "     Fare  Survival  Predicted Y  Probabilities  \n",
       "0  211.34       1.0     0.129455       0.870545  \n",
       "1  151.55       1.0     0.485883       0.514117  \n",
       "2  151.55       0.0     0.901171       0.098829  \n",
       "3  151.55       0.0     0.909621       0.090379  \n",
       "4  151.55       0.0     0.570689       0.429311  "
      ]
     },
     "execution_count": 64,
     "metadata": {},
     "output_type": "execute_result"
    }
   ],
   "source": [
    "titanic_1.head()"
   ]
  },
  {
   "cell_type": "code",
   "execution_count": 66,
   "id": "6875b018",
   "metadata": {},
   "outputs": [
    {
     "name": "stdout",
     "output_type": "stream",
     "text": [
      "[[161  22]\n",
      " [ 40  91]]\n"
     ]
    }
   ],
   "source": [
    "# evaluating our logistic model\n",
    "confusion_matrix = confusion_matrix(y_test, y_pred)\n",
    "print(confusion_matrix)"
   ]
  },
  {
   "cell_type": "code",
   "execution_count": 67,
   "id": "49cbb996",
   "metadata": {},
   "outputs": [
    {
     "name": "stdout",
     "output_type": "stream",
     "text": [
      "              precision    recall  f1-score   support\n",
      "\n",
      "           0       0.80      0.88      0.84       183\n",
      "           1       0.81      0.69      0.75       131\n",
      "\n",
      "    accuracy                           0.80       314\n",
      "   macro avg       0.80      0.79      0.79       314\n",
      "weighted avg       0.80      0.80      0.80       314\n",
      "\n"
     ]
    }
   ],
   "source": [
    "print(classification_report(y_test, y_pred))"
   ]
  },
  {
   "cell_type": "code",
   "execution_count": 68,
   "id": "d807beb0",
   "metadata": {},
   "outputs": [
    {
     "data": {
      "image/png": "[encoded data removed]",
      "text/plain": [
       "<Figure size 432x288 with 1 Axes>"
      ]
     },
     "metadata": {
      "needs_background": "light"
     },
     "output_type": "display_data"
    }
   ],
   "source": [
    "# ROC Curve\n",
    "from sklearn.metrics import roc_auc_score\n",
    "from sklearn.metrics import roc_curve\n",
    "logit_roc_auc = roc_auc_score(y_test, model.predict(X_test))\n",
    "fpr, tpr, thresholds = roc_curve(y_test, model.predict_proba(X_test)[:,1])\n",
    "plt.figure()\n",
    "plt.plot(fpr, tpr, label='Logistic Regression (area = %0.2f)' % logit_roc_auc)\n",
    "plt.plot([0, 1], [0, 1],'r--')\n",
    "plt.xlim([0.0, 1.0])\n",
    "plt.ylim([0.0, 1.05])\n",
    "plt.xlabel('False Positive Rate')\n",
    "plt.ylabel('True Positive Rate')\n",
    "plt.title('Receiver operating characteristic')\n",
    "plt.legend(loc=\"lower right\")\n",
    "#plt.savefig('Log_ROC')\n",
    "plt.show()"
   ]
  },
  {
   "cell_type": "code",
   "execution_count": 33,
   "id": "074f9bb8",
   "metadata": {},
   "outputs": [],
   "source": [
    "import statsmodels.api as sm\n",
    "from sklearn.feature_selection import RFE"
   ]
  },
  {
   "cell_type": "code",
   "execution_count": 36,
   "id": "05bcf828",
   "metadata": {},
   "outputs": [
    {
     "name": "stdout",
     "output_type": "stream",
     "text": [
      "Optimization terminated successfully.\n",
      "         Current function value: 0.521535\n",
      "         Iterations 6\n",
      "                         Results: Logit\n",
      "=================================================================\n",
      "Model:              Logit            Pseudo R-squared: 0.229     \n",
      "Dependent Variable: Survival         AIC:              1098.0072 \n",
      "Date:               2022-04-22 08:33 BIC:              1117.8143 \n",
      "No. Observations:   1045             Log-Likelihood:   -545.00   \n",
      "Df Model:           3                LL-Null:          -706.79   \n",
      "Df Residuals:       1041             LLR p-value:      7.8953e-70\n",
      "Converged:          1.0000           Scale:            1.0000    \n",
      "No. Iterations:     6.0000                                       \n",
      "-------------------------------------------------------------------\n",
      "          Coef.    Std.Err.      z       P>|z|     [0.025    0.975]\n",
      "-------------------------------------------------------------------\n",
      "Age       0.0111     0.0041     2.7284   0.0064    0.0031    0.0191\n",
      "Gender   -1.9971     0.1510   -13.2256   0.0000   -2.2930   -1.7011\n",
      "Class    -0.0598     0.0711    -0.8415   0.4001   -0.1991    0.0795\n",
      "Fare      0.0114     0.0019     5.8711   0.0000    0.0076    0.0152\n",
      "=================================================================\n",
      "\n"
     ]
    }
   ],
   "source": [
    "# modeling using statmodels\n",
    "log_reg = sm.Logit(y,X)\n",
    "result=log_reg.fit()\n",
    "print(result.summary2())"
   ]
  },
  {
   "cell_type": "code",
   "execution_count": null,
   "id": "8a33b59d",
   "metadata": {},
   "outputs": [],
   "source": []
  }
 ],
 "metadata": {
  "kernelspec": {
   "display_name": "Python 3 (ipykernel)",
   "language": "python",
   "name": "python3"
  },
  "language_info": {
   "codemirror_mode": {
    "name": "ipython",
    "version": 3
   },
   "file_extension": ".py",
   "mimetype": "text/x-python",
   "name": "python",
   "nbconvert_exporter": "python",
   "pygments_lexer": "ipython3",
   "version": "3.9.7"
  }
 },
 "nbformat": 4,
 "nbformat_minor": 5
}
